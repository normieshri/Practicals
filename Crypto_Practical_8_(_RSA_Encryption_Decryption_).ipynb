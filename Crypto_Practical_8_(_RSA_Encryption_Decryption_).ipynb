{
  "nbformat": 4,
  "nbformat_minor": 0,
  "metadata": {
    "colab": {
      "provenance": []
    },
    "kernelspec": {
      "name": "python3",
      "display_name": "Python 3"
    },
    "language_info": {
      "name": "python"
    }
  },
  "cells": [
    {
      "cell_type": "markdown",
      "source": [
        "Method 1 : RSA Encryption in Python using Plain Encryption"
      ],
      "metadata": {
        "id": "sjyD1flsuURW"
      }
    },
    {
      "cell_type": "code",
      "execution_count": null,
      "metadata": {
        "colab": {
          "base_uri": "https://localhost:8080/"
        },
        "id": "z1Yy031Tqw43",
        "outputId": "d5ce4d39-8fb7-4457-f86b-a2a7d11d62ae"
      },
      "outputs": [
        {
          "output_type": "stream",
          "name": "stdout",
          "text": [
            "Collecting pycrypto\n",
            "  Downloading pycrypto-2.6.1.tar.gz (446 kB)\n",
            "\u001b[2K     \u001b[90m━━━━━━━━━━━━━━━━━━━━━━━━━━━━━━━━━━━━━━━━\u001b[0m \u001b[32m446.2/446.2 kB\u001b[0m \u001b[31m6.1 MB/s\u001b[0m eta \u001b[36m0:00:00\u001b[0m\n",
            "\u001b[?25h  Preparing metadata (setup.py) ... \u001b[?25l\u001b[?25hdone\n",
            "Building wheels for collected packages: pycrypto\n",
            "  Building wheel for pycrypto (setup.py) ... \u001b[?25l\u001b[?25hdone\n",
            "  Created wheel for pycrypto: filename=pycrypto-2.6.1-cp310-cp310-linux_x86_64.whl size=498545 sha256=4427faa01bf7df555b5da3973b5b4368f66623e8b92c35640351f96bb0f2d5ae\n",
            "  Stored in directory: /root/.cache/pip/wheels/e8/4b/5b/b10a6fc885057b6ff9fbd5691d7e700d0a9408f80b7e6f12e0\n",
            "Successfully built pycrypto\n"
          ]
        }
      ],
      "source": [
        "!pip install pycrypto"
      ]
    },
    {
      "cell_type": "code",
      "source": [
        "pip install -U PyCryptodome"
      ],
      "metadata": {
        "id": "4IzZizaUrB6C"
      },
      "execution_count": null,
      "outputs": []
    },
    {
      "cell_type": "code",
      "source": [
        "import Crypto.Cipher.PKCS1_OAEP\n",
        "from Crypto.Cipher import PKCS1_OAEP\n",
        "import Crypto\n",
        "from Crypto.PublicKey import RSA\n",
        "import ast\n",
        "keyPair = RSA.generate(1024)\n",
        "publickey = keyPair.publickey()\n",
        "encryptor = PKCS1_OAEP.new(publickey)\n",
        "message = input(\"Enter the Message : \")\n",
        "message=str.encode(message)\n",
        "encrypted = encryptor.encrypt(message)\n",
        "print(encrypted)\n",
        "decryptor = PKCS1_OAEP.new(keyPair)\n",
        "decrypted = decryptor.decrypt(ast.literal_eval(str(encrypted)))\n",
        "print(decrypted)"
      ],
      "metadata": {
        "id": "8hNbutuhrgNy"
      },
      "execution_count": null,
      "outputs": []
    },
    {
      "cell_type": "markdown",
      "source": [
        "Method 2 : RSA Encryption in Python using Cryptographic Padding"
      ],
      "metadata": {
        "id": "k1soeDryuj96"
      }
    },
    {
      "cell_type": "code",
      "source": [
        "from Crypto.Cipher import PKCS1_OAEP\n",
        "from Crypto.PublicKey import RSA\n",
        "key = RSA.generate(2048)\n",
        "privateKey = key.exportKey(\"PEM\")\n",
        "publicKey = key.publickey().exportKey(\"PEM\")\n",
        "message = input(\"Enter the Message : \")\n",
        "message = str.encode(message)\n",
        "RSApublicKey = RSA.importKey(publicKey)\n",
        "OAEP_cipher = PKCS1_OAEP.new(RSApublicKey)\n",
        "encryptedMsg = OAEP_cipher.encrypt(message)\n",
        "print(\"Encrypted Text : \", encryptedMsg)\n",
        "RSAprivateKey = RSA.importKey(privateKey)\n",
        "OAEP_cipher = PKCS1_OAEP.new(RSAprivateKey)\n",
        "decryptedMsg = OAEP_cipher.decrypt(encryptedMsg)\n",
        "print(\"The Original Text : \",decryptedMsg)"
      ],
      "metadata": {
        "id": "UOt6NMaar1iV",
        "colab": {
          "base_uri": "https://localhost:8080/"
        },
        "outputId": "00646cbc-88cf-4c97-da49-1290d44012cb"
      },
      "execution_count": null,
      "outputs": [
        {
          "output_type": "stream",
          "name": "stdout",
          "text": [
            "Enter the Message : KNGopal\n",
            "Encrypted Text :  b'4\\x90\\x89u\\xd4\\xbeP\\x83\\xf9\\xd7\\x17Q\\x06U\\x94m\\x8a\\xf1\\\\\\x1f\\xfbE\\xa97\\x9f\\nEDk\\xaa\\xf14@\\x92!\\x8a\\xac\\xff\\xaf\\xec\\xe4\\xe9\\x9b\\xda\\xfc\\x91ZV[X\\xfc\\x83\\x92\\xe5\\xd4/\\xb0*l\\x16\\x01\\x08\\x97\\xc9\\x87\\xe2C\\xd8\\x01G\\xb5y\\x84\\x05\\xb30\\xd0\\xd4\\x1d6\\x00[\\x15Sf8\\xb2\\xf1^\\xe22\\x08\\xb7\\xab\\x1e;d\\xdf+W\\x9f\\xea\\x12\\x9f\\x07\\xbd\\x8bU\\x95t\\x12\\xe0\\t\\xd9W\\xb3\\xb3\\xa7\\x94\\\\M\\x05\\x1ab\\xa0\\x00\\x0e7k\\xc9\\xbb\\x05h\\x91\\x90916j\\x14\\xf5s/\\x1e\\xea%\\xc3\\x17x\\xef$\\x80rz\\xa2\\x9a\\xad\\x11\\xc4\\xd3c\\xadP|\\xee\\xc9@T\\xb1\\x1b\\x97T\\x8a\\xee\\x07\\x9f;\\xc8t\\x07S\\t\\xec\\xcdV\\xc6\\xbe\\x8b?\\x13Q\\xda\\x85\\xa1-\\x18\\xad\\x95_@\\xdc\\x82k\\xc4\\xf1\\x88\\x85+\\x15\\xf1\\x83\\xfb&\\x8b\\xbe\\x11\\xf0p\\x8b\\x1e\\x1d\\n\\xb7\\xdd\\xd5+\\x95d\\xb5a\\n\\x1a\\x1d.\\xdd\\xd8p\\xefI\\x9be_\\x8b/o\\x8e\\x02\\xc3\\x8cT\\xed>\\xfb\\xdd\\x181'\n",
            "The Original Text :  b'KNGopal'\n"
          ]
        }
      ]
    },
    {
      "cell_type": "code",
      "source": [],
      "metadata": {
        "id": "2K3nw8GJ9iyy"
      },
      "execution_count": null,
      "outputs": []
    }
  ]
}