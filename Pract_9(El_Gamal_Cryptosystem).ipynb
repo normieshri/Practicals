{
  "nbformat": 4,
  "nbformat_minor": 0,
  "metadata": {
    "colab": {
      "provenance": []
    },
    "kernelspec": {
      "name": "python3",
      "display_name": "Python 3"
    },
    "language_info": {
      "name": "python"
    }
  },
  "cells": [
    {
      "cell_type": "code",
      "execution_count": 1,
      "metadata": {
        "colab": {
          "base_uri": "https://localhost:8080/",
          "height": 715
        },
        "id": "SS18lNrFCR5I",
        "outputId": "c052f1ef-31b8-45c4-8422-f8d7e1d63f8a"
      },
      "outputs": [
        {
          "output_type": "stream",
          "name": "stdout",
          "text": [
            "Enter Message : shivani\n",
            "g used =  3103435181910521357945766764908513120431396697895\n",
            "g^a used =  1444670798931874853186931314900221789479547263737\n",
            "g^k used =  871410316850474410699908310522590682833456200506\n",
            "g^ak used =  50389748537618165090339046897705037023498115817\n",
            "Original Message :  shivani\n",
            "Encrypted Message :  [5794821081826088985388990393236079257702283318955, 5240533847912289169395260877361323850443804044968, 5290923596449907334485599924259028887467302160785, 5945990327438943480660007533929194368772777666406, 4887805608148962013762887549077388591279317234249, 5542872339137998159937295158747554072584792739870, 5290923596449907334485599924259028887467302160785]\n",
            "Decrypted Message :  shivani\n",
            "Collecting eciespy\n",
            "  Downloading eciespy-0.4.1-py3-none-any.whl (10 kB)\n",
            "Collecting coincurve<19,>=13 (from eciespy)\n",
            "  Downloading coincurve-18.0.0-cp310-cp310-manylinux_2_17_x86_64.manylinux2014_x86_64.whl (1.4 MB)\n",
            "\u001b[2K     \u001b[90m━━━━━━━━━━━━━━━━━━━━━━━━━━━━━━━━━━━━━━━━\u001b[0m \u001b[32m1.4/1.4 MB\u001b[0m \u001b[31m6.1 MB/s\u001b[0m eta \u001b[36m0:00:00\u001b[0m\n",
            "\u001b[?25hCollecting eth-keys<0.5.0,>=0.4.0 (from eciespy)\n",
            "  Downloading eth_keys-0.4.0-py3-none-any.whl (21 kB)\n",
            "Collecting pycryptodome<4.0.0,>=3.18.0 (from eciespy)\n",
            "  Downloading pycryptodome-3.20.0-cp35-abi3-manylinux_2_17_x86_64.manylinux2014_x86_64.whl (2.1 MB)\n",
            "\u001b[2K     \u001b[90m━━━━━━━━━━━━━━━━━━━━━━━━━━━━━━━━━━━━━━━━\u001b[0m \u001b[32m2.1/2.1 MB\u001b[0m \u001b[31m34.7 MB/s\u001b[0m eta \u001b[36m0:00:00\u001b[0m\n",
            "\u001b[?25hCollecting asn1crypto (from coincurve<19,>=13->eciespy)\n",
            "  Downloading asn1crypto-1.5.1-py2.py3-none-any.whl (105 kB)\n",
            "\u001b[2K     \u001b[90m━━━━━━━━━━━━━━━━━━━━━━━━━━━━━━━━━━━━━━━━\u001b[0m \u001b[32m105.0/105.0 kB\u001b[0m \u001b[31m10.6 MB/s\u001b[0m eta \u001b[36m0:00:00\u001b[0m\n",
            "\u001b[?25hRequirement already satisfied: cffi>=1.3.0 in /usr/local/lib/python3.10/dist-packages (from coincurve<19,>=13->eciespy) (1.16.0)\n",
            "Collecting eth-utils<3.0.0,>=2.0.0 (from eth-keys<0.5.0,>=0.4.0->eciespy)\n",
            "  Downloading eth_utils-2.3.1-py3-none-any.whl (77 kB)\n",
            "\u001b[2K     \u001b[90m━━━━━━━━━━━━━━━━━━━━━━━━━━━━━━━━━━━━━━━━\u001b[0m \u001b[32m77.8/77.8 kB\u001b[0m \u001b[31m9.2 MB/s\u001b[0m eta \u001b[36m0:00:00\u001b[0m\n",
            "\u001b[?25hCollecting eth-typing<4,>=3.0.0 (from eth-keys<0.5.0,>=0.4.0->eciespy)\n",
            "  Downloading eth_typing-3.5.2-py3-none-any.whl (14 kB)\n",
            "Requirement already satisfied: pycparser in /usr/local/lib/python3.10/dist-packages (from cffi>=1.3.0->coincurve<19,>=13->eciespy) (2.21)\n",
            "Requirement already satisfied: typing-extensions>=4.0.1 in /usr/local/lib/python3.10/dist-packages (from eth-typing<4,>=3.0.0->eth-keys<0.5.0,>=0.4.0->eciespy) (4.10.0)\n",
            "Collecting eth-hash>=0.3.1 (from eth-utils<3.0.0,>=2.0.0->eth-keys<0.5.0,>=0.4.0->eciespy)\n",
            "  Downloading eth_hash-0.7.0-py3-none-any.whl (8.7 kB)\n",
            "Collecting cytoolz>=0.10.1 (from eth-utils<3.0.0,>=2.0.0->eth-keys<0.5.0,>=0.4.0->eciespy)\n",
            "  Downloading cytoolz-0.12.3-cp310-cp310-manylinux_2_17_x86_64.manylinux2014_x86_64.whl (2.0 MB)\n",
            "\u001b[2K     \u001b[90m━━━━━━━━━━━━━━━━━━━━━━━━━━━━━━━━━━━━━━━━\u001b[0m \u001b[32m2.0/2.0 MB\u001b[0m \u001b[31m50.9 MB/s\u001b[0m eta \u001b[36m0:00:00\u001b[0m\n",
            "\u001b[?25hRequirement already satisfied: toolz>=0.8.0 in /usr/local/lib/python3.10/dist-packages (from cytoolz>=0.10.1->eth-utils<3.0.0,>=2.0.0->eth-keys<0.5.0,>=0.4.0->eciespy) (0.12.1)\n",
            "Installing collected packages: asn1crypto, pycryptodome, eth-typing, eth-hash, cytoolz, eth-utils, coincurve, eth-keys, eciespy\n",
            "Successfully installed asn1crypto-1.5.1 coincurve-18.0.0 cytoolz-0.12.3 eciespy-0.4.1 eth-hash-0.7.0 eth-keys-0.4.0 eth-typing-3.5.2 eth-utils-2.3.1 pycryptodome-3.20.0\n",
            "Encrypted :  b'0454d9c59c65427c888df87e10230d2ee13eefda33e4b466039735dcf492891a9c320d635d9a518ac4aae2135eaf20aefbdefa2e94a6fa73dfd3f59d7ba46c065ca116fc4cb01118827271aa63909b9cfab1695f3d493d1ac19d885111c9c23020770e17ff8f96'\n"
          ]
        },
        {
          "output_type": "execute_result",
          "data": {
            "text/plain": [
              "'0xc1d665ae078aff8f2c8b4c8d63f4dd80c72416ef325e1b89dd83104b27801fb8'"
            ],
            "application/vnd.google.colaboratory.intrinsic+json": {
              "type": "string"
            }
          },
          "metadata": {},
          "execution_count": 1
        }
      ],
      "source": [
        "# prac: 9 (El-Gamal Cryptosystem)\n",
        "\n",
        "import random\n",
        "from math import pow\n",
        "\n",
        "a = random.randint(2,10)\n",
        "\n",
        "def gcd(a,b):\n",
        "  if a<b:\n",
        "    return gcd(b,a)\n",
        "  elif a%b==0:\n",
        "    return b\n",
        "  else:\n",
        "    return gcd(b,a%b)\n",
        "\n",
        "def gen_key(q):\n",
        "  key = random.randint(pow(10,20),q)\n",
        "  while gcd(q,key)!= 1:\n",
        "    key = random.randint(pow(10,20),q)\n",
        "  return key\n",
        "def power(a,b,c):\n",
        "  x = 1\n",
        "  y = a\n",
        "  while b > 0:\n",
        "    if b%2==0:\n",
        "      x=(x*y)%c;\n",
        "    y=(y*y)%c\n",
        "    b=int(b/2)\n",
        "  return x%c\n",
        "\n",
        "def encryption(msg,q,h,g):\n",
        "  ct=[]\n",
        "  k=gen_key(q)\n",
        "  s=power(h,k,q)\n",
        "  p=power(g,k,q)\n",
        "  for i in range(0,len(msg)):\n",
        "    ct.append(msg[i])\n",
        "  print(\"g^k used = \",p)\n",
        "  print(\"g^ak used = \",s)\n",
        "  for i in range(0,len(ct)):\n",
        "    ct[i] = s*ord(ct[i])\n",
        "  return ct,p\n",
        "\n",
        "def decryption(ct,p,key,q):\n",
        "  pt=[]\n",
        "  h=power(p,key,q)\n",
        "  for i in range(0,len(ct)):\n",
        "    pt.append(chr(int(ct[i]/h)))\n",
        "  return pt\n",
        "\n",
        "msg = input(\"Enter Message : \")\n",
        "q = random.randint(pow(10,20),pow(10,50))\n",
        "g = random.randint(2,q)\n",
        "key = gen_key(q)\n",
        "h = power(g,key,q)\n",
        "print(\"g used = \",g)\n",
        "print(\"g^a used = \",h)\n",
        "ct,p = encryption(msg,q,h,g)\n",
        "print(\"Original Message : \",msg)\n",
        "print(\"Encrypted Message : \",ct)\n",
        "pt = decryption(ct,p,key,q)\n",
        "d_msg = ''.join(pt)\n",
        "print(\"Decrypted Message : \",d_msg)\n",
        "\n",
        "# prac : 9 (Elliptical Curve Cryptography)\n",
        "\n",
        "!pip install eciespy\n",
        "\n",
        "from ecies.utils import generate_eth_key, generate_key\n",
        "from ecies import encrypt, decrypt\n",
        "import binascii\n",
        "\n",
        "keypair = generate_eth_key()\n",
        "keypair\n",
        "\n",
        "publickey = keypair.public_key.to_hex()\n",
        "publickey\n",
        "\n",
        "msg = b'deepti'\n",
        "encrypted= encrypt(publickey, msg)\n",
        "print(\"Encrypted : \", binascii.hexlify(encrypted))\n",
        "\n",
        "secretkey = keypair.to_hex()\n",
        "secretkey"
      ]
    },
    {
      "cell_type": "code",
      "source": [
        "# prac : 9 [B] (Elliptical Curve Cryptography)\n",
        "\n",
        "!pip install eciespy\n",
        "\n",
        "from ecies.utils import generate_eth_key, generate_key\n",
        "from ecies import encrypt, decrypt\n",
        "import binascii\n",
        "\n",
        "keypair = generate_eth_key()\n",
        "keypair\n",
        "\n",
        "publickey = keypair.public_key.to_hex()\n",
        "publickey\n",
        "\n",
        "msg = b'aman'\n",
        "encrypted= encrypt(publickey, msg)\n",
        "print(\"Encrypted : \", binascii.hexlify(encrypted))\n",
        "\n",
        "secretkey = keypair.to_hex()\n",
        "secretkey\n",
        "\n"
      ],
      "metadata": {
        "colab": {
          "base_uri": "https://localhost:8080/",
          "height": 298
        },
        "id": "_YsN-PsnWQcA",
        "outputId": "2f818cee-3dcd-42fa-f107-a00ee6d7c94e"
      },
      "execution_count": 2,
      "outputs": [
        {
          "output_type": "stream",
          "name": "stdout",
          "text": [
            "Requirement already satisfied: eciespy in /usr/local/lib/python3.10/dist-packages (0.4.1)\n",
            "Requirement already satisfied: coincurve<19,>=13 in /usr/local/lib/python3.10/dist-packages (from eciespy) (18.0.0)\n",
            "Requirement already satisfied: eth-keys<0.5.0,>=0.4.0 in /usr/local/lib/python3.10/dist-packages (from eciespy) (0.4.0)\n",
            "Requirement already satisfied: pycryptodome<4.0.0,>=3.18.0 in /usr/local/lib/python3.10/dist-packages (from eciespy) (3.20.0)\n",
            "Requirement already satisfied: asn1crypto in /usr/local/lib/python3.10/dist-packages (from coincurve<19,>=13->eciespy) (1.5.1)\n",
            "Requirement already satisfied: cffi>=1.3.0 in /usr/local/lib/python3.10/dist-packages (from coincurve<19,>=13->eciespy) (1.16.0)\n",
            "Requirement already satisfied: eth-utils<3.0.0,>=2.0.0 in /usr/local/lib/python3.10/dist-packages (from eth-keys<0.5.0,>=0.4.0->eciespy) (2.3.1)\n",
            "Requirement already satisfied: eth-typing<4,>=3.0.0 in /usr/local/lib/python3.10/dist-packages (from eth-keys<0.5.0,>=0.4.0->eciespy) (3.5.2)\n",
            "Requirement already satisfied: pycparser in /usr/local/lib/python3.10/dist-packages (from cffi>=1.3.0->coincurve<19,>=13->eciespy) (2.21)\n",
            "Requirement already satisfied: typing-extensions>=4.0.1 in /usr/local/lib/python3.10/dist-packages (from eth-typing<4,>=3.0.0->eth-keys<0.5.0,>=0.4.0->eciespy) (4.10.0)\n",
            "Requirement already satisfied: eth-hash>=0.3.1 in /usr/local/lib/python3.10/dist-packages (from eth-utils<3.0.0,>=2.0.0->eth-keys<0.5.0,>=0.4.0->eciespy) (0.7.0)\n",
            "Requirement already satisfied: cytoolz>=0.10.1 in /usr/local/lib/python3.10/dist-packages (from eth-utils<3.0.0,>=2.0.0->eth-keys<0.5.0,>=0.4.0->eciespy) (0.12.3)\n",
            "Requirement already satisfied: toolz>=0.8.0 in /usr/local/lib/python3.10/dist-packages (from cytoolz>=0.10.1->eth-utils<3.0.0,>=2.0.0->eth-keys<0.5.0,>=0.4.0->eciespy) (0.12.1)\n",
            "Encrypted :  b'04872b3224de88665a76e26c31f2e468b1f86d70364bc5d3ff8bbdbbd9fbf364499abb0a6f4434ff8f7249914333c893f198558bd770a3b3f134f7d7e0f3b697fef8993bbd917f2904963aa1c4bf5ec91e37879c7015f5a20b50accab6951e26283ef0c5ab'\n"
          ]
        },
        {
          "output_type": "execute_result",
          "data": {
            "text/plain": [
              "'0x2c342bb6ba6f1a19c84617b99de26dfc464b2a9787715426154e0b26242d8655'"
            ],
            "application/vnd.google.colaboratory.intrinsic+json": {
              "type": "string"
            }
          },
          "metadata": {},
          "execution_count": 2
        }
      ]
    }
  ]
}