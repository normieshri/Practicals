{
  "nbformat": 4,
  "nbformat_minor": 0,
  "metadata": {
    "colab": {
      "provenance": []
    },
    "kernelspec": {
      "name": "python3",
      "display_name": "Python 3"
    },
    "language_info": {
      "name": "python"
    }
  },
  "cells": [
    {
      "cell_type": "code",
      "execution_count": null,
      "metadata": {
        "colab": {
          "base_uri": "https://localhost:8080/",
          "height": 125
        },
        "id": "3bamsnqM_hGu",
        "outputId": "22054c85-5186-4a52-ced1-8b1facff8ad3"
      },
      "outputs": [
        {
          "output_type": "stream",
          "name": "stdout",
          "text": [
            "Requirement already satisfied: pyAesCrypt in /usr/local/lib/python3.10/dist-packages (6.1.1)\n",
            "Requirement already satisfied: cryptography in /usr/local/lib/python3.10/dist-packages (from pyAesCrypt) (42.0.5)\n",
            "Requirement already satisfied: cffi>=1.12 in /usr/local/lib/python3.10/dist-packages (from cryptography->pyAesCrypt) (1.16.0)\n",
            "Requirement already satisfied: pycparser in /usr/local/lib/python3.10/dist-packages (from cffi>=1.12->cryptography->pyAesCrypt) (2.21)\n"
          ]
        },
        {
          "output_type": "execute_result",
          "data": {
            "text/plain": [
              "'/content/SachinTendulkardecrypt.txtencrypt'"
            ],
            "application/vnd.google.colaboratory.intrinsic+json": {
              "type": "string"
            }
          },
          "metadata": {},
          "execution_count": 6
        }
      ],
      "source": [
        "!pip install pyAesCrypt\n",
        "\n",
        "import pyAesCrypt\n",
        "def encrypt(key,source):\n",
        "  output=source+\"encrypt\"\n",
        "  pyAesCrypt.encryptFile(source,output,key)\n",
        "  return output\n",
        "def decrypt(key,source):\n",
        "  dfile=source.split(\".\")\n",
        "  output=dfile[0]+\"decrypt.\"+dfile[1]\n",
        "  pyAesCrypt.decryptFile(source,output,key)\n",
        "  return output\n",
        "key=\"ngkngk\"\n",
        "source=\"/content/SachinTendulkar.txt\"\n",
        "res=encrypt(key,source)\n",
        "decrypt(key,res)"
      ]
    }
  ]
}